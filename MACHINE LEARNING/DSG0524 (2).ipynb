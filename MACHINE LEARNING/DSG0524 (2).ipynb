{
 "cells": [
  {
   "cell_type": "code",
   "execution_count": 1,
   "id": "acb45d01-2c9c-43ad-a59a-6583aefec3da",
   "metadata": {},
   "outputs": [
    {
     "name": "stdout",
     "output_type": "stream",
     "text": [
      "HELLO DATA SCINENCE!\n"
     ]
    }
   ],
   "source": [
    "print(\"HELLO DATA SCINENCE!\")"
   ]
  },
  {
   "cell_type": "code",
   "execution_count": 2,
   "id": "c2cc7bde-876b-4c96-bc3d-c06a5b50c27a",
   "metadata": {},
   "outputs": [
    {
     "name": "stdout",
     "output_type": "stream",
     "text": [
      "my name is pranali patil\n"
     ]
    }
   ],
   "source": [
    "print(\"my name is pranali patil\")"
   ]
  },
  {
   "cell_type": "code",
   "execution_count": 3,
   "id": "4f8114eb-d1eb-4b85-b146-d9dfd0e32b0b",
   "metadata": {},
   "outputs": [
    {
     "data": {
      "text/plain": [
       "1725"
      ]
     },
     "execution_count": 3,
     "metadata": {},
     "output_type": "execute_result"
    }
   ],
   "source": [
    "25*69"
   ]
  },
  {
   "cell_type": "code",
   "execution_count": 4,
   "id": "6feea0ae-1103-47a7-8aa4-18e6216af9fc",
   "metadata": {},
   "outputs": [
    {
     "data": {
      "text/plain": [
       "324"
      ]
     },
     "execution_count": 4,
     "metadata": {},
     "output_type": "execute_result"
    }
   ],
   "source": [
    "36*9"
   ]
  },
  {
   "cell_type": "code",
   "execution_count": 5,
   "id": "2a07fb52-55c3-4df3-97af-5a3b58d115a1",
   "metadata": {},
   "outputs": [
    {
     "data": {
      "text/plain": [
       "328.5"
      ]
     },
     "execution_count": 5,
     "metadata": {},
     "output_type": "execute_result"
    }
   ],
   "source": [
    "657/2"
   ]
  },
  {
   "cell_type": "code",
   "execution_count": 6,
   "id": "90d2b72e-ec2f-4950-a25e-504a624b1e43",
   "metadata": {},
   "outputs": [
    {
     "data": {
      "text/plain": [
       "15.0"
      ]
     },
     "execution_count": 6,
     "metadata": {},
     "output_type": "execute_result"
    }
   ],
   "source": [
    "45/3"
   ]
  },
  {
   "cell_type": "code",
   "execution_count": null,
   "id": "5d039df7-2751-4559-a560-68dfeb4e1bdd",
   "metadata": {},
   "outputs": [],
   "source": []
  }
 ],
 "metadata": {
  "kernelspec": {
   "display_name": "Python 3 (ipykernel)",
   "language": "python",
   "name": "python3"
  },
  "language_info": {
   "codemirror_mode": {
    "name": "ipython",
    "version": 3
   },
   "file_extension": ".py",
   "mimetype": "text/x-python",
   "name": "python",
   "nbconvert_exporter": "python",
   "pygments_lexer": "ipython3",
   "version": "3.11.7"
  }
 },
 "nbformat": 4,
 "nbformat_minor": 5
}
